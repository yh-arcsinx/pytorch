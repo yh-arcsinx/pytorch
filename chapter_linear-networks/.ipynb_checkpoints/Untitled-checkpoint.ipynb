{
 "cells": [
  {
   "cell_type": "code",
   "execution_count": 5,
   "id": "842ab9ab",
   "metadata": {},
   "outputs": [],
   "source": [
    "import numpy as np\n",
    "import torch\n",
    "from torch.utils import data\n",
    "from d2l import torch as d2l\n",
    "\n",
    "true_w = torch.tensor([2, -3.4])\n",
    "true_b = 4.2\n",
    "features, labels = d2l.synthetic_data(true_w, true_b, 1000)"
   ]
  },
  {
   "cell_type": "code",
   "execution_count": 6,
   "id": "b4c7f2bd",
   "metadata": {},
   "outputs": [],
   "source": [
    "def load_array(data_arrays, batch_size, is_train=True):  #@save\n",
    "    \"\"\"构造一个PyTorch数据迭代器\"\"\"\n",
    "    dataset = data.TensorDataset(*data_arrays)\n",
    "    return data.DataLoader(dataset, batch_size, shuffle=is_train)\n",
    "\n",
    "batch_size = 10\n",
    "data_iter = load_array((features, labels), batch_size)"
   ]
  },
  {
   "cell_type": "code",
   "execution_count": 4,
   "id": "ce21c6b5",
   "metadata": {},
   "outputs": [
    {
     "name": "stdout",
     "output_type": "stream",
     "text": [
      "\u001b[33mWARNING: Keyring is skipped due to an exception: Failed to create the collection: Prompt dismissed..\u001b[0m\n",
      "Collecting matplotlib==3.0.0\n",
      "  Downloading matplotlib-3.0.0.tar.gz (36.3 MB)\n",
      "\u001b[K     |████████████████████████████████| 36.3 MB 155 kB/s eta 0:00:01\n",
      "\u001b[?25hRequirement already satisfied: numpy>=1.10.0 in /root/anaconda3/lib/python3.8/site-packages (from matplotlib==3.0.0) (1.21.6)\n",
      "Requirement already satisfied: cycler>=0.10 in /root/anaconda3/lib/python3.8/site-packages (from matplotlib==3.0.0) (0.10.0)\n",
      "Requirement already satisfied: kiwisolver>=1.0.1 in /root/anaconda3/lib/python3.8/site-packages (from matplotlib==3.0.0) (1.3.1)\n",
      "Requirement already satisfied: pyparsing!=2.0.4,!=2.1.2,!=2.1.6,>=2.0.1 in /root/anaconda3/lib/python3.8/site-packages (from matplotlib==3.0.0) (2.4.7)\n",
      "Requirement already satisfied: python-dateutil>=2.1 in /root/anaconda3/lib/python3.8/site-packages (from matplotlib==3.0.0) (2.8.1)\n",
      "Requirement already satisfied: six in /root/anaconda3/lib/python3.8/site-packages (from cycler>=0.10->matplotlib==3.0.0) (1.15.0)\n",
      "Building wheels for collected packages: matplotlib\n",
      "  Building wheel for matplotlib (setup.py) ... \u001b[?25ldone\n",
      "\u001b[?25h  Created wheel for matplotlib: filename=matplotlib-3.0.0-cp38-cp38-linux_x86_64.whl size=11130458 sha256=de670a31160cf6960ede038f3b12acd5e8e3a18cc7597b28a127d85e3c74ca8e\n",
      "  Stored in directory: /root/.cache/pip/wheels/a9/1e/ed/3e09c67472517aa5d81f8c15de6c81162d249ebe442e4f3007\n",
      "Successfully built matplotlib\n",
      "Installing collected packages: matplotlib\n",
      "  Attempting uninstall: matplotlib\n",
      "    Found existing installation: matplotlib 3.5.2\n",
      "    Uninstalling matplotlib-3.5.2:\n",
      "      Successfully uninstalled matplotlib-3.5.2\n",
      "\u001b[31mERROR: pip's dependency resolver does not currently take into account all the packages that are installed. This behaviour is the source of the following dependency conflicts.\n",
      "scikit-image 0.18.1 requires matplotlib!=3.0.0,>=2.0.0, but you have matplotlib 3.0.0 which is incompatible.\n",
      "d2l 0.17.3 requires matplotlib==3.3.3, but you have matplotlib 3.0.0 which is incompatible.\n",
      "d2l 0.17.3 requires numpy==1.18.5, but you have numpy 1.21.6 which is incompatible.\n",
      "d2l 0.17.3 requires pandas==1.2.2, but you have pandas 1.1.5 which is incompatible.\u001b[0m\n",
      "Successfully installed matplotlib-3.0.0\n"
     ]
    }
   ],
   "source": [
    "# !pip install matplotlib==3.0.0"
   ]
  },
  {
   "cell_type": "code",
   "execution_count": 19,
   "id": "32d3bbd4",
   "metadata": {},
   "outputs": [],
   "source": [
    "import numpy as np\n",
    "import torch\n",
    "from torch.utils import data\n",
    "from d2l import torch as d2l\n",
    "\n",
    "true_w = torch.tensor([2, -3.4])\n",
    "true_b = 4.2\n",
    "features, labels = d2l.synthetic_data(true_w, true_b, 1000)"
   ]
  },
  {
   "cell_type": "code",
   "execution_count": 20,
   "id": "5c18d2b0",
   "metadata": {},
   "outputs": [],
   "source": [
    "def load_array(data_arrays, batch_size, is_train=True):  #@save\n",
    "    \"\"\"构造一个PyTorch数据迭代器\"\"\"\n",
    "    dataset = data.TensorDataset(*data_arrays)\n",
    "    return data.DataLoader(dataset, batch_size, shuffle=is_train)\n",
    "\n",
    "batch_size = 10\n",
    "data_iter = load_array((features, labels), batch_size)"
   ]
  },
  {
   "cell_type": "code",
   "execution_count": 22,
   "id": "8cea056c",
   "metadata": {},
   "outputs": [
    {
     "data": {
      "text/plain": [
       "[tensor([[ 1.4888, -0.7222],\n",
       "         [-1.7275,  1.6044],\n",
       "         [-0.1896, -0.2904],\n",
       "         [ 2.2747,  0.0388],\n",
       "         [-0.3910, -0.1758],\n",
       "         [-0.9056, -1.7242],\n",
       "         [-0.8634, -0.9900],\n",
       "         [ 0.7035, -0.6108],\n",
       "         [-0.2480, -0.6308],\n",
       "         [-0.1077,  2.3673]]),\n",
       " tensor([[ 9.6348],\n",
       "         [-4.7224],\n",
       "         [ 4.8142],\n",
       "         [ 8.6113],\n",
       "         [ 4.0106],\n",
       "         [ 8.2535],\n",
       "         [ 5.8500],\n",
       "         [ 7.6885],\n",
       "         [ 5.8538],\n",
       "         [-4.0691]])]"
      ]
     },
     "execution_count": 22,
     "metadata": {},
     "output_type": "execute_result"
    }
   ],
   "source": [
    "next(iter(data_iter)) "
   ]
  },
  {
   "cell_type": "code",
   "execution_count": 23,
   "id": "6247cfe5",
   "metadata": {},
   "outputs": [],
   "source": [
    "# nn是神经网络的缩写\n",
    "from torch import nn\n",
    "\n",
    "net = nn.Sequential(nn.Linear(2, 1))"
   ]
  },
  {
   "cell_type": "code",
   "execution_count": 24,
   "id": "814799f0",
   "metadata": {},
   "outputs": [
    {
     "data": {
      "text/plain": [
       "tensor([0.])"
      ]
     },
     "execution_count": 24,
     "metadata": {},
     "output_type": "execute_result"
    }
   ],
   "source": [
    "net[0].weight.data.normal_(0, 0.01)\n",
    "net[0].bias.data.fill_(0)"
   ]
  },
  {
   "cell_type": "code",
   "execution_count": 25,
   "id": "1dace87e",
   "metadata": {},
   "outputs": [],
   "source": [
    "loss = nn.MSELoss()"
   ]
  },
  {
   "cell_type": "code",
   "execution_count": 26,
   "id": "1d5c9533",
   "metadata": {},
   "outputs": [],
   "source": [
    "trainer = torch.optim.SGD(net.parameters(), lr=0.03)"
   ]
  },
  {
   "cell_type": "code",
   "execution_count": 27,
   "id": "9ecc2055",
   "metadata": {},
   "outputs": [
    {
     "name": "stdout",
     "output_type": "stream",
     "text": [
      "epoch 1, loss 0.000245\n",
      "epoch 2, loss 0.000096\n",
      "epoch 3, loss 0.000095\n"
     ]
    }
   ],
   "source": [
    "num_epochs = 3\n",
    "for epoch in range(num_epochs):\n",
    "    for X, y in data_iter:\n",
    "        l = loss(net(X) ,y)\n",
    "        trainer.zero_grad()\n",
    "        l.backward()\n",
    "        trainer.step()\n",
    "    l = loss(net(features), labels)\n",
    "    print(f'epoch {epoch + 1}, loss {l:f}')"
   ]
  },
  {
   "cell_type": "code",
   "execution_count": 28,
   "id": "1b10d10d",
   "metadata": {},
   "outputs": [
    {
     "name": "stdout",
     "output_type": "stream",
     "text": [
      "w的估计误差： tensor([-9.9421e-05,  7.4482e-04])\n",
      "b的估计误差： tensor([0.0006])\n"
     ]
    }
   ],
   "source": [
    "w = net[0].weight.data\n",
    "print('w的估计误差：', true_w - w.reshape(true_w.shape))\n",
    "b = net[0].bias.data\n",
    "print('b的估计误差：', true_b - b)"
   ]
  },
  {
   "cell_type": "code",
   "execution_count": null,
   "id": "e0515b05",
   "metadata": {},
   "outputs": [],
   "source": []
  }
 ],
 "metadata": {
  "kernelspec": {
   "display_name": "Python 3",
   "language": "python",
   "name": "python3"
  },
  "language_info": {
   "codemirror_mode": {
    "name": "ipython",
    "version": 3
   },
   "file_extension": ".py",
   "mimetype": "text/x-python",
   "name": "python",
   "nbconvert_exporter": "python",
   "pygments_lexer": "ipython3",
   "version": "3.8.8"
  }
 },
 "nbformat": 4,
 "nbformat_minor": 5
}
